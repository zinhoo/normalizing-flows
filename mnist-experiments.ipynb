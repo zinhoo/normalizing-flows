{
 "cells": [
  {
   "cell_type": "code",
   "execution_count": 1,
   "metadata": {
    "colab": {
     "base_uri": "https://localhost:8080/",
     "height": 64
    },
    "colab_type": "code",
    "executionInfo": {
     "elapsed": 46663,
     "status": "ok",
     "timestamp": 1574097610274,
     "user": {
      "displayName": "Brian Groenke",
      "photoUrl": "https://lh3.googleusercontent.com/a-/AAuE7mBtsOR7pkIGzyJlhVWNSQL6d4_4ebdoNvhXtkDfGw=s64",
      "userId": "16782961711179916085"
     },
     "user_tz": 420
    },
    "id": "Xg_LA1mm7oeh",
    "outputId": "7b7c17b9-b1e6-4a7f-f003-170529fd6415"
   },
   "outputs": [],
   "source": [
    "import tensorflow as tf\n",
    "import matplotlib.pyplot as plt\n",
    "import numpy as np\n",
    "from tensorflow.keras.datasets import mnist\n",
    "from flows import Flow\n",
    "from flows.affine import Planar\n",
    "from flows.sylvester import TriangularSylvester\n",
    "from models.vae import GatedConvVAE"
   ]
  },
  {
   "cell_type": "code",
   "execution_count": 2,
   "metadata": {
    "colab": {
     "base_uri": "https://localhost:8080/",
     "height": 317
    },
    "colab_type": "code",
    "executionInfo": {
     "elapsed": 47021,
     "status": "ok",
     "timestamp": 1574097610644,
     "user": {
      "displayName": "Brian Groenke",
      "photoUrl": "https://lh3.googleusercontent.com/a-/AAuE7mBtsOR7pkIGzyJlhVWNSQL6d4_4ebdoNvhXtkDfGw=s64",
      "userId": "16782961711179916085"
     },
     "user_tz": 420
    },
    "id": "FrEGP7ip7oex",
    "outputId": "58b81c58-a521-4942-fe40-a4ac36ab972f"
   },
   "outputs": [
    {
     "data": {
      "text/plain": [
       "<matplotlib.image.AxesImage at 0x7f377113bd30>"
      ]
     },
     "execution_count": 2,
     "metadata": {},
     "output_type": "execute_result"
    },
    {
     "data": {
      "image/png": "[encoded data removed]",
      "text/plain": [
       "<Figure size 432x288 with 1 Axes>"
      ]
     },
     "metadata": {
      "needs_background": "light"
     },
     "output_type": "display_data"
    }
   ],
   "source": [
    "(X_train, y_train), (X_test, y_test) = mnist.load_data()\n",
    "X_train = X_train / 255\n",
    "X_test = X_test / 255\n",
    "plt.imshow(X_train[0], cmap='gray')"
   ]
  },
  {
   "cell_type": "code",
   "execution_count": 3,
   "metadata": {},
   "outputs": [],
   "source": [
    "def train_vae(flow=None, z_size=32, n_epochs=10):\n",
    "    x_train = np.expand_dims(X_train, axis=-1)\n",
    "    beta_update = lambda i, beta: 2.0E-4/tf.math.exp(-i)\n",
    "    vae = GatedConvVAE(x_train.shape[1], x_train.shape[2], flow, z_size=z_size, beta_update_fn=beta_update)\n",
    "    vae.fit(x_train, x_train, epochs=n_epochs, batch_size=128)\n",
    "    return vae"
   ]
  },
  {
   "cell_type": "markdown",
   "metadata": {},
   "source": [
    "### Vanilla VAE"
   ]
  },
  {
   "cell_type": "code",
   "execution_count": 4,
   "metadata": {
    "colab": {},
    "colab_type": "code",
    "id": "drVSCKnp7oe7"
   },
   "outputs": [
    {
     "name": "stdout",
     "output_type": "stream",
     "text": [
      "Train on 60000 samples\n",
      "Epoch 1/10\n",
      "60000/60000 [==============================] - 29s 488us/sample - loss: 0.3166\n",
      "Epoch 2/10\n",
      "60000/60000 [==============================] - 25s 417us/sample - loss: 0.2625\n",
      "Epoch 3/10\n",
      "60000/60000 [==============================] - 25s 416us/sample - loss: 0.2519\n",
      "Epoch 4/10\n",
      "60000/60000 [==============================] - 25s 418us/sample - loss: 0.2471\n",
      "Epoch 5/10\n",
      "60000/60000 [==============================] - 25s 414us/sample - loss: 0.2441\n",
      "Epoch 6/10\n",
      "60000/60000 [==============================] - 25s 415us/sample - loss: 0.2410\n",
      "Epoch 7/10\n",
      "60000/60000 [==============================] - 25s 414us/sample - loss: 0.2382\n",
      "Epoch 8/10\n",
      "60000/60000 [==============================] - 25s 418us/sample - loss: 0.2357\n",
      "Epoch 9/10\n",
      "60000/60000 [==============================] - 25s 416us/sample - loss: 0.2336\n",
      "Epoch 10/10\n",
      "60000/60000 [==============================] - 25s 417us/sample - loss: 0.2318\n"
     ]
    }
   ],
   "source": [
    "vae = train_vae(n_epochs=10)"
   ]
  },
  {
   "cell_type": "code",
   "execution_count": 5,
   "metadata": {
    "colab": {},
    "colab_type": "code",
    "id": "qH4g0rM17ofT"
   },
   "outputs": [
    {
     "name": "stdout",
     "output_type": "stream",
     "text": [
      "WARNING:tensorflow:5 out of the last 5 calls to <function normal_kld at 0x7f847a5e56a8> triggered tf.function retracing. Tracing is expensive and the excessive number of tracings is likely due to passing python objects instead of tensors. Also, tf.function has experimental_relax_shapes=True option that relaxes argument shapes that can avoid unnecessary retracing. Please refer to https://www.tensorflow.org/beta/tutorials/eager/tf_function#python_or_tensor_args and https://www.tensorflow.org/api_docs/python/tf/function for more details.\n"
     ]
    }
   ],
   "source": [
    "x_test = np.expand_dims(X_test, axis=-1)\n",
    "x_pred = vae.predict(x_test)"
   ]
  },
  {
   "cell_type": "code",
   "execution_count": 8,
   "metadata": {
    "colab": {},
    "colab_type": "code",
    "id": "now53kte7ofc"
   },
   "outputs": [],
   "source": [
    "def show_images(x_test, x_pred):\n",
    "    plt.subplot(2,4,1)\n",
    "    plt.imshow(x_test[0], cmap='gray')\n",
    "    plt.subplot(2,4,2)\n",
    "    plt.imshow(x_test[1], cmap='gray')\n",
    "    plt.subplot(2,4,3)\n",
    "    plt.imshow(x_test[2], cmap='gray')\n",
    "    plt.subplot(2,4,4)\n",
    "    plt.imshow(x_test[3], cmap='gray')\n",
    "    plt.subplot(2,4,5)\n",
    "    plt.imshow(x_pred[0].squeeze(), cmap='gray')\n",
    "    plt.subplot(2,4,6)\n",
    "    plt.imshow(x_pred[1].squeeze(), cmap='gray')\n",
    "    plt.subplot(2,4,7)\n",
    "    plt.imshow(x_pred[2].squeeze(), cmap='gray')\n",
    "    plt.subplot(2,4,8)\n",
    "    plt.imshow(x_pred[3].squeeze(), cmap='gray')\n",
    "    plt.show()"
   ]
  },
  {
   "cell_type": "code",
   "execution_count": null,
   "metadata": {
    "colab": {},
    "colab_type": "code",
    "id": "ybdpkrD87ofl"
   },
   "outputs": [],
   "source": [
    "z_mu, z_log_sigma, params = vae.encoder.predict(x_test[10:11])\n",
    "plt.figure(figsize=(4*6,2*4))\n",
    "for i in range(1,9):\n",
    "    x_pred = vae.decoder.predict([z_mu, z_log_sigma, params])\n",
    "    plt.subplot(2,4,i)\n",
    "    plt.imshow(tf.squeeze(x_pred).numpy())"
   ]
  },
  {
   "cell_type": "markdown",
   "metadata": {},
   "source": [
    "### Planar VAE"
   ]
  },
  {
   "cell_type": "code",
   "execution_count": 4,
   "metadata": {
    "colab": {},
    "colab_type": "code",
    "id": "ioVJwZ2tx0-j"
   },
   "outputs": [],
   "source": [
    "n_flows = 8\n",
    "planar_flow = Flow(n_flows, lambda i: Planar())"
   ]
  },
  {
   "cell_type": "code",
   "execution_count": 5,
   "metadata": {},
   "outputs": [
    {
     "name": "stdout",
     "output_type": "stream",
     "text": [
      "Train on 60000 samples\n",
      "Epoch 1/10\n",
      "60000/60000 [==============================] - 40s 675us/sample - loss: 0.3051\n",
      "Epoch 2/10\n",
      "60000/60000 [==============================] - 31s 520us/sample - loss: 0.2561\n",
      "Epoch 3/10\n",
      "60000/60000 [==============================] - 31s 522us/sample - loss: 0.2472\n",
      "Epoch 4/10\n",
      "60000/60000 [==============================] - 31s 522us/sample - loss: 0.2419\n",
      "Epoch 5/10\n",
      "60000/60000 [==============================] - 31s 521us/sample - loss: 0.2386\n",
      "Epoch 6/10\n",
      "60000/60000 [==============================] - 31s 523us/sample - loss: 0.2362 - los \n",
      "Epoch 7/10\n",
      "60000/60000 [==============================] - 31s 523us/sample - loss: 0.2341\n",
      "Epoch 8/10\n",
      "60000/60000 [==============================] - 31s 522us/sample - loss: 0.2322 \n",
      "Epoch 9/10\n",
      "60000/60000 [==============================] - 31s 521us/sample - loss: 0.2308\n",
      "Epoch 10/10\n",
      "60000/60000 [==============================] - 31s 523us/sample - loss: 0.2296\n"
     ]
    }
   ],
   "source": [
    "planar_vae = train_vae(flow=flow, n_epochs=10)"
   ]
  },
  {
   "cell_type": "code",
   "execution_count": 9,
   "metadata": {},
   "outputs": [
    {
     "data": {
      "image/png": "[encoded data removed]",
      "text/plain": [
       "<Figure size 432x288 with 8 Axes>"
      ]
     },
     "metadata": {
      "needs_background": "light"
     },
     "output_type": "display_data"
    }
   ],
   "source": [
    "x_test = np.expand_dims(X_test, axis=-1)\n",
    "x_pred = planar_vae.predict(x_test)\n",
    "show_images(x_test.squeeze(), x_pred)"
   ]
  },
  {
   "cell_type": "markdown",
   "metadata": {},
   "source": [
    "### Triangular Sylvester Flows"
   ]
  },
  {
   "cell_type": "code",
   "execution_count": 4,
   "metadata": {},
   "outputs": [],
   "source": [
    "n_flows = 4\n",
    "tsnf_flow = Flow(n_flows, lambda i: TriangularSylvester(flip_z = i % 2 != 0))"
   ]
  },
  {
   "cell_type": "code",
   "execution_count": 5,
   "metadata": {},
   "outputs": [
    {
     "name": "stdout",
     "output_type": "stream",
     "text": [
      "Train on 60000 samples\n",
      "Epoch 1/10\n",
      "60000/60000 [==============================] - 41s 681us/sample - loss: 0.3065\n",
      "Epoch 2/10\n",
      "60000/60000 [==============================] - 34s 567us/sample - loss: 0.2517\n",
      "Epoch 3/10\n",
      "60000/60000 [==============================] - 34s 566us/sample - loss: 0.2429\n",
      "Epoch 4/10\n",
      "60000/60000 [==============================] - 34s 566us/sample - loss: 0.2384\n",
      "Epoch 5/10\n",
      "60000/60000 [==============================] - 34s 566us/sample - loss: 0.2356\n",
      "Epoch 6/10\n",
      "60000/60000 [==============================] - 34s 565us/sample - loss: 0.2335\n",
      "Epoch 7/10\n",
      "60000/60000 [==============================] - 34s 566us/sample - loss: 0.2313\n",
      "Epoch 8/10\n",
      "60000/60000 [==============================] - 34s 566us/sample - loss: 0.2297\n",
      "Epoch 9/10\n",
      "60000/60000 [==============================] - 34s 566us/sample - loss: 0.2284\n",
      "Epoch 10/10\n",
      "60000/60000 [==============================] - 34s 566us/sample - loss: 0.2272\n"
     ]
    }
   ],
   "source": [
    "tsnf_vae = train_vae(flow=tsnf_flow, n_epochs=10)"
   ]
  },
  {
   "cell_type": "code",
   "execution_count": 9,
   "metadata": {},
   "outputs": [
    {
     "data": {
      "image/png": "[encoded data removed]",
      "text/plain": [
       "<Figure size 432x288 with 8 Axes>"
      ]
     },
     "metadata": {
      "needs_background": "light"
     },
     "output_type": "display_data"
    }
   ],
   "source": [
    "x_test = np.expand_dims(X_test, axis=-1)\n",
    "x_pred = tsnf_vae.predict(x_test)\n",
    "show_images(x_test.squeeze(), x_pred)"
   ]
  },
  {
   "cell_type": "code",
   "execution_count": null,
   "metadata": {},
   "outputs": [],
   "source": []
  }
 ],
 "metadata": {
  "accelerator": "GPU",
  "colab": {
   "collapsed_sections": [],
   "name": "affine-flows-experiments.ipynb",
   "provenance": []
  },
  "kernelspec": {
   "display_name": "Python 3",
   "language": "python",
   "name": "python3"
  },
  "language_info": {
   "codemirror_mode": {
    "name": "ipython",
    "version": 3
   },
   "file_extension": ".py",
   "mimetype": "text/x-python",
   "name": "python",
   "nbconvert_exporter": "python",
   "pygments_lexer": "ipython3",
   "version": "3.7.3"
  }
 },
 "nbformat": 4,
 "nbformat_minor": 4
}
